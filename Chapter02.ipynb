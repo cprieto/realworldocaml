{
  "worksheets": [
    {
      "cells": [
        {
          "source": [
            "The Wonderful \"let\""
          ],
          "metadata": {},
          "cell_type": "heading",
          "level": 1
        },
        {
          "source": [
            "The keyword `let` is used to bind values to variables. So, `let <variable> = <expr>` and you can bind to specific expressions with `let <variable> = <expr1> in <expr2>` and the evaluation is first `expr` and then evaluate the second with that value and variable has that final value."
          ],
          "metadata": {},
          "cell_type": "markdown"
        },
        {
          "outputs": [
            {
              "html": [
                "<pre style=\"color:slategray;max-height:100px;overflow:hidden\" \n",
                "onclick=\"\n",
                "if (this.style.maxHeight === 'none') \n",
                "    this.style.maxHeight = '100px';\n",
                "else\n",
                "    this.style.maxHeight = 'none'; \n",
                "\">val languages : string = &quot;OCaml,Perl,C++,C&quot;\n",
                "</pre>"
              ],
              "output_type": "pyout",
              "prompt_number": 4,
              "metadata": {}
            },
            {
              "html": [
                "<pre style=\"color:slategray;max-height:100px;overflow:hidden\" \n",
                "onclick=\"\n",
                "if (this.style.maxHeight === 'none') \n",
                "    this.style.maxHeight = '100px';\n",
                "else\n",
                "    this.style.maxHeight = 'none'; \n",
                "\">val dashed_languages : Core.Std.String.t = &quot;OCaml-Perl-C++-C&quot;\n",
                "</pre>"
              ],
              "output_type": "pyout",
              "prompt_number": 4,
              "metadata": {}
            }
          ],
          "input": [
            "let languages = \"OCaml,Perl,C++,C\" ;;\n",
            "let dashed_languages = \n",
            "    let language_list = String.split languages ~on:',' \n",
            "        in String.concat ~sep:\"-\" language_list"
          ],
          "metadata": {},
          "cell_type": "code",
          "prompt_number": 4,
          "language": "python",
          "collapsed": false
        },
        {
          "source": [
            " let can hide or shadow outer definitions, now, remember, with `in` we evaluate `<expr1>` and then use that for `<expr2>` so hiding `languages` for `<expr2>` is as easy as do this:"
          ],
          "metadata": {},
          "cell_type": "markdown"
        },
        {
          "outputs": [
            {
              "html": [
                "<pre style=\"color:slategray;max-height:100px;overflow:hidden\" \n",
                "onclick=\"\n",
                "if (this.style.maxHeight === 'none') \n",
                "    this.style.maxHeight = '100px';\n",
                "else\n",
                "    this.style.maxHeight = 'none'; \n",
                "\">val dashed_languages : Core.Std.String.t = &quot;OCaml-Perl-C++-C&quot;\n",
                "</pre>"
              ],
              "output_type": "pyout",
              "prompt_number": 6,
              "metadata": {}
            }
          ],
          "input": [
            "let dashed_languages =\n",
            "    let languages = String.split languages ~on:','\n",
            "    in String.concat ~sep:\"-\" languages"
          ],
          "metadata": {},
          "cell_type": "code",
          "prompt_number": 6,
          "language": "python",
          "collapsed": false
        },
        {
          "source": [
            "You can even use the `let ... in` to declare inner functions!"
          ],
          "metadata": {},
          "cell_type": "markdown"
        },
        {
          "outputs": [
            {
              "html": [
                "<pre style=\"color:slategray;max-height:100px;overflow:hidden\" \n",
                "onclick=\"\n",
                "if (this.style.maxHeight === 'none') \n",
                "    this.style.maxHeight = '100px';\n",
                "else\n",
                "    this.style.maxHeight = 'none'; \n",
                "\">val area_of_ring : float -&gt; float -&gt; float = &lt;fun&gt;\n",
                "</pre>"
              ],
              "output_type": "pyout",
              "prompt_number": 7,
              "metadata": {}
            },
            {
              "html": [
                "<pre style=\"color:slategray;max-height:100px;overflow:hidden\" \n",
                "onclick=\"\n",
                "if (this.style.maxHeight === 'none') \n",
                "    this.style.maxHeight = '100px';\n",
                "else\n",
                "    this.style.maxHeight = 'none'; \n",
                "\">- : float = 25.1327412287\n",
                "</pre>"
              ],
              "output_type": "pyout",
              "prompt_number": 7,
              "metadata": {}
            }
          ],
          "input": [
            "let area_of_ring inner_radius outer_radius =\n",
            "    let pi = acos (-1.) in\n",
            "    let area_of_circle r = pi *. r *. r in\n",
            "    area_of_circle outer_radius -. area_of_circle inner_radius\n",
            ";;\n",
            "area_of_ring 1. 3."
          ],
          "metadata": {},
          "cell_type": "code",
          "prompt_number": 7,
          "language": "python",
          "collapsed": false
        },
        {
          "source": [
            "## Functions!\n",
            "\n",
            "Yes, it is time for functions, starting with anonymous functions:"
          ],
          "metadata": {},
          "cell_type": "markdown"
        },
        {
          "outputs": [
            {
              "html": [
                "<pre style=\"color:slategray;max-height:100px;overflow:hidden\" \n",
                "onclick=\"\n",
                "if (this.style.maxHeight === 'none') \n",
                "    this.style.maxHeight = '100px';\n",
                "else\n",
                "    this.style.maxHeight = 'none'; \n",
                "\">- : int -&gt; int = &lt;fun&gt;\n",
                "</pre>"
              ],
              "output_type": "pyout",
              "prompt_number": 8,
              "metadata": {}
            }
          ],
          "input": [
            "(fun x -> x + 1)"
          ],
          "metadata": {},
          "cell_type": "code",
          "prompt_number": 8,
          "language": "python",
          "collapsed": false
        },
        {
          "source": [
            "We can apply directly to them:"
          ],
          "metadata": {},
          "cell_type": "markdown"
        },
        {
          "outputs": [
            {
              "html": [
                "<pre style=\"color:slategray;max-height:100px;overflow:hidden\" \n",
                "onclick=\"\n",
                "if (this.style.maxHeight === 'none') \n",
                "    this.style.maxHeight = '100px';\n",
                "else\n",
                "    this.style.maxHeight = 'none'; \n",
                "\">- : int = 8\n",
                "</pre>"
              ],
              "output_type": "pyout",
              "prompt_number": 9,
              "metadata": {}
            }
          ],
          "input": [
            "(fun x -> x + 1) 7"
          ],
          "metadata": {},
          "cell_type": "code",
          "prompt_number": 9,
          "language": "python",
          "collapsed": false
        },
        {
          "source": [
            "And of course, we can use them as parameters. This time with _high order functions_"
          ],
          "metadata": {},
          "cell_type": "markdown"
        },
        {
          "outputs": [
            {
              "html": [
                "<pre style=\"color:slategray;max-height:100px;overflow:hidden\" \n",
                "onclick=\"\n",
                "if (this.style.maxHeight === 'none') \n",
                "    this.style.maxHeight = '100px';\n",
                "else\n",
                "    this.style.maxHeight = 'none'; \n",
                "\">val increments : (int -&gt; int) list = [&lt;fun&gt;; &lt;fun&gt;]\n",
                "</pre>"
              ],
              "output_type": "pyout",
              "prompt_number": 10,
              "metadata": {}
            },
            {
              "html": [
                "<pre style=\"color:slategray;max-height:100px;overflow:hidden\" \n",
                "onclick=\"\n",
                "if (this.style.maxHeight === 'none') \n",
                "    this.style.maxHeight = '100px';\n",
                "else\n",
                "    this.style.maxHeight = 'none'; \n",
                "\">- : int Core.Std.List.t = [6; 7]\n",
                "</pre>"
              ],
              "output_type": "pyout",
              "prompt_number": 10,
              "metadata": {}
            }
          ],
          "input": [
            "let increments = [(fun x -> x + 1); (fun x -> x + 2)] ;;\n",
            "List.map ~f:(fun g -> g 5) increments"
          ],
          "metadata": {},
          "cell_type": "code",
          "prompt_number": 10,
          "language": "python",
          "collapsed": false
        },
        {
          "source": [
            "## Currying is awesome and you should get into it\n",
            "\n",
            "Haskell Curry (as you see, two awesome things together) came with the idea. It is easy with the following example:"
          ],
          "metadata": {},
          "cell_type": "markdown"
        },
        {
          "outputs": [
            {
              "html": [
                "<pre style=\"color:slategray;max-height:100px;overflow:hidden\" \n",
                "onclick=\"\n",
                "if (this.style.maxHeight === 'none') \n",
                "    this.style.maxHeight = '100px';\n",
                "else\n",
                "    this.style.maxHeight = 'none'; \n",
                "\">- : int -&gt; int = &lt;fun&gt;\n",
                "</pre>"
              ],
              "output_type": "pyout",
              "prompt_number": 12,
              "metadata": {}
            }
          ],
          "input": [
            "(fun x -> x + 1) ;;"
          ],
          "metadata": {},
          "cell_type": "code",
          "prompt_number": 12,
          "language": "python",
          "collapsed": false
        },
        {
          "source": [
            "As you can see here, it takes an `int` and returns an `int`, how do we call this?"
          ],
          "metadata": {},
          "cell_type": "markdown"
        },
        {
          "outputs": [
            {
              "html": [
                "<pre style=\"color:slategray;max-height:100px;overflow:hidden\" \n",
                "onclick=\"\n",
                "if (this.style.maxHeight === 'none') \n",
                "    this.style.maxHeight = '100px';\n",
                "else\n",
                "    this.style.maxHeight = 'none'; \n",
                "\">- : int = 4\n",
                "</pre>"
              ],
              "output_type": "pyout",
              "prompt_number": 16,
              "metadata": {}
            }
          ],
          "input": [
            "(fun x -> x + 1) 3 ;;"
          ],
          "metadata": {},
          "cell_type": "code",
          "prompt_number": 16,
          "language": "python",
          "collapsed": false
        },
        {
          "source": [
            "We can name the function, after all, it is just like another value:"
          ],
          "metadata": {},
          "cell_type": "markdown"
        },
        {
          "outputs": [
            {
              "html": [
                "<pre style=\"color:slategray;max-height:100px;overflow:hidden\" \n",
                "onclick=\"\n",
                "if (this.style.maxHeight === 'none') \n",
                "    this.style.maxHeight = '100px';\n",
                "else\n",
                "    this.style.maxHeight = 'none'; \n",
                "\">val add_one : int -&gt; int = &lt;fun&gt;\n",
                "</pre>"
              ],
              "output_type": "pyout",
              "prompt_number": 19,
              "metadata": {}
            },
            {
              "html": [
                "<pre style=\"color:slategray;max-height:100px;overflow:hidden\" \n",
                "onclick=\"\n",
                "if (this.style.maxHeight === 'none') \n",
                "    this.style.maxHeight = '100px';\n",
                "else\n",
                "    this.style.maxHeight = 'none'; \n",
                "\">- : int = 4\n",
                "</pre>"
              ],
              "output_type": "pyout",
              "prompt_number": 19,
              "metadata": {}
            }
          ],
          "input": [
            "let add_one = (fun x -> x + 1) ;;\n",
            "add_one 3 ;;"
          ],
          "metadata": {},
          "cell_type": "code",
          "prompt_number": 19,
          "language": "python",
          "collapsed": false
        },
        {
          "source": [
            "See? notice that `add_one` has a type `int -> int = <fun>` that is the same as the previous definition of an anonymous function."
          ],
          "metadata": {},
          "cell_type": "markdown"
        },
        {
          "outputs": [
            {
              "html": [
                "<pre style=\"color:slategray;max-height:100px;overflow:hidden\" \n",
                "onclick=\"\n",
                "if (this.style.maxHeight === 'none') \n",
                "    this.style.maxHeight = '100px';\n",
                "else\n",
                "    this.style.maxHeight = 'none'; \n",
                "\">- : int -&gt; int -&gt; int = &lt;fun&gt;\n",
                "</pre>"
              ],
              "output_type": "pyout",
              "prompt_number": 22,
              "metadata": {}
            }
          ],
          "input": [
            "(fun x y -> x + y)"
          ],
          "metadata": {},
          "cell_type": "code",
          "prompt_number": 22,
          "language": "python",
          "collapsed": false
        },
        {
          "source": [
            "Now look at this friend, why is like this? well, let's call it with _one_ parameter only."
          ],
          "metadata": {},
          "cell_type": "markdown"
        },
        {
          "outputs": [
            {
              "html": [
                "<pre style=\"color:slategray;max-height:100px;overflow:hidden\" \n",
                "onclick=\"\n",
                "if (this.style.maxHeight === 'none') \n",
                "    this.style.maxHeight = '100px';\n",
                "else\n",
                "    this.style.maxHeight = 'none'; \n",
                "\">- : int -&gt; int = &lt;fun&gt;\n",
                "</pre>"
              ],
              "output_type": "pyout",
              "prompt_number": 23,
              "metadata": {}
            }
          ],
          "input": [
            "(fun x y -> x + y) 5"
          ],
          "metadata": {},
          "cell_type": "code",
          "prompt_number": 23,
          "language": "python",
          "collapsed": false
        },
        {
          "source": [
            "This is the equivalent to:"
          ],
          "metadata": {},
          "cell_type": "markdown"
        },
        {
          "outputs": [
            {
              "html": [
                "<pre style=\"color:slategray;max-height:100px;overflow:hidden\" \n",
                "onclick=\"\n",
                "if (this.style.maxHeight === 'none') \n",
                "    this.style.maxHeight = '100px';\n",
                "else\n",
                "    this.style.maxHeight = 'none'; \n",
                "\">- : int -&gt; int -&gt; int = &lt;fun&gt;\n",
                "</pre>"
              ],
              "output_type": "pyout",
              "prompt_number": 25,
              "metadata": {}
            },
            {
              "html": [
                "<pre style=\"color:slategray;max-height:100px;overflow:hidden\" \n",
                "onclick=\"\n",
                "if (this.style.maxHeight === 'none') \n",
                "    this.style.maxHeight = '100px';\n",
                "else\n",
                "    this.style.maxHeight = 'none'; \n",
                "\">- : int -&gt; int = &lt;fun&gt;\n",
                "</pre>"
              ],
              "output_type": "pyout",
              "prompt_number": 25,
              "metadata": {}
            },
            {
              "html": [
                "<pre style=\"color:slategray;max-height:100px;overflow:hidden\" \n",
                "onclick=\"\n",
                "if (this.style.maxHeight === 'none') \n",
                "    this.style.maxHeight = '100px';\n",
                "else\n",
                "    this.style.maxHeight = 'none'; \n",
                "\">- : int = 11\n",
                "</pre>"
              ],
              "output_type": "pyout",
              "prompt_number": 25,
              "metadata": {}
            }
          ],
          "input": [
            "(fun x y -> x + y) ;;\n",
            "(fun x y -> x + y) 5 ;;\n",
            "(fun x y -> x + y) 5 6 ;;"
          ],
          "metadata": {},
          "cell_type": "code",
          "prompt_number": 25,
          "language": "python",
          "collapsed": false
        },
        {
          "source": [
            "So what happens is this:"
          ],
          "metadata": {},
          "cell_type": "markdown"
        },
        {
          "outputs": [
            {
              "html": [
                "<pre style=\"color:slategray;max-height:100px;overflow:hidden\" \n",
                "onclick=\"\n",
                "if (this.style.maxHeight === 'none') \n",
                "    this.style.maxHeight = '100px';\n",
                "else\n",
                "    this.style.maxHeight = 'none'; \n",
                "\">val sum_num : int -&gt; int -&gt; int = &lt;fun&gt;\n",
                "</pre>"
              ],
              "output_type": "pyout",
              "prompt_number": 29,
              "metadata": {}
            },
            {
              "html": [
                "<pre style=\"color:slategray;max-height:100px;overflow:hidden\" \n",
                "onclick=\"\n",
                "if (this.style.maxHeight === 'none') \n",
                "    this.style.maxHeight = '100px';\n",
                "else\n",
                "    this.style.maxHeight = 'none'; \n",
                "\">val sum_num : int -&gt; int -&gt; int = &lt;fun&gt;\n",
                "</pre>"
              ],
              "output_type": "pyout",
              "prompt_number": 29,
              "metadata": {}
            }
          ],
          "input": [
            "let sum_num x y = x + y ;;\n",
            "let sum_num = (fun x -> (fun y -> x + y)) ;;"
          ],
          "metadata": {},
          "cell_type": "code",
          "prompt_number": 29,
          "language": "python",
          "collapsed": false
        },
        {
          "source": [
            "See? they are the same! so that is currying.\n",
            "\n",
            "We can take advantage of this:"
          ],
          "metadata": {},
          "cell_type": "markdown"
        },
        {
          "outputs": [
            {
              "html": [
                "<pre style=\"color:slategray;max-height:100px;overflow:hidden\" \n",
                "onclick=\"\n",
                "if (this.style.maxHeight === 'none') \n",
                "    this.style.maxHeight = '100px';\n",
                "else\n",
                "    this.style.maxHeight = 'none'; \n",
                "\">val add_three : int -&gt; int = &lt;fun&gt;\n",
                "</pre>"
              ],
              "output_type": "pyout",
              "prompt_number": 30,
              "metadata": {}
            },
            {
              "html": [
                "<pre style=\"color:slategray;max-height:100px;overflow:hidden\" \n",
                "onclick=\"\n",
                "if (this.style.maxHeight === 'none') \n",
                "    this.style.maxHeight = '100px';\n",
                "else\n",
                "    this.style.maxHeight = 'none'; \n",
                "\">- : int = 9\n",
                "</pre>"
              ],
              "output_type": "pyout",
              "prompt_number": 30,
              "metadata": {}
            }
          ],
          "input": [
            "let add_three x = sum_num x 3 ;;\n",
            "add_three 6 ;;"
          ],
          "metadata": {},
          "cell_type": "code",
          "prompt_number": 30,
          "language": "python",
          "collapsed": false
        },
        {
          "source": [
            "There is another way to call a function, using tuples:"
          ],
          "metadata": {},
          "cell_type": "markdown"
        },
        {
          "outputs": [
            {
              "html": [
                "<pre style=\"color:slategray;max-height:100px;overflow:hidden\" \n",
                "onclick=\"\n",
                "if (this.style.maxHeight === 'none') \n",
                "    this.style.maxHeight = '100px';\n",
                "else\n",
                "    this.style.maxHeight = 'none'; \n",
                "\">val sum_num : int * int -&gt; int = &lt;fun&gt;\n",
                "</pre>"
              ],
              "output_type": "pyout",
              "prompt_number": 31,
              "metadata": {}
            }
          ],
          "input": [
            "let sum_num (x, y) = x + y ;;"
          ],
          "metadata": {},
          "cell_type": "code",
          "prompt_number": 31,
          "language": "python",
          "collapsed": false
        },
        {
          "source": [
            "It is basically the same, but the tuple version cannot be used for currying, it is all or nothing."
          ],
          "metadata": {},
          "cell_type": "markdown"
        },
        {
          "source": [
            "## Recursive functions\n",
            "\n",
            "It is easy, just add `rec`"
          ],
          "metadata": {},
          "cell_type": "markdown"
        },
        {
          "outputs": [
            {
              "html": [
                "<pre style=\"color:slategray;max-height:100px;overflow:hidden\" \n",
                "onclick=\"\n",
                "if (this.style.maxHeight === 'none') \n",
                "    this.style.maxHeight = '100px';\n",
                "else\n",
                "    this.style.maxHeight = 'none'; \n",
                "\">val find_first_stutter : 'a list -&gt; 'a option = &lt;fun&gt;\n",
                "</pre>"
              ],
              "output_type": "pyout",
              "prompt_number": 33,
              "metadata": {}
            }
          ],
          "input": [
            "let rec find_first_stutter items =\n",
            "    match items with\n",
            "    | [] | [_] -> None (* If empty or one element, no dups *)\n",
            "    | first :: second :: tl -> \n",
            "        if first = second then Some first\n",
            "        else find_first_stutter (second :: tl)\n",
            ";;"
          ],
          "metadata": {},
          "cell_type": "code",
          "prompt_number": 33,
          "language": "python",
          "collapsed": false
        },
        {
          "source": [
            "We can have mutually recursive functions too, why not?"
          ],
          "metadata": {},
          "cell_type": "markdown"
        },
        {
          "outputs": [
            {
              "html": [
                "<pre style=\"color:slategray;max-height:100px;overflow:hidden\" \n",
                "onclick=\"\n",
                "if (this.style.maxHeight === 'none') \n",
                "    this.style.maxHeight = '100px';\n",
                "else\n",
                "    this.style.maxHeight = 'none'; \n",
                "\">val is_even : int -&gt; bool = &lt;fun&gt;\n",
                "val is_odd : int -&gt; bool = &lt;fun&gt;\n",
                "</pre>"
              ],
              "output_type": "pyout",
              "prompt_number": 35,
              "metadata": {}
            }
          ],
          "input": [
            "let rec is_even x =\n",
            "    if x = 0 then true else is_even (x - 1)\n",
            "and is_odd x =\n",
            "    if x = 0 then false else is_odd (x - 1)\n",
            ";;"
          ],
          "metadata": {},
          "cell_type": "code",
          "prompt_number": 35,
          "language": "python",
          "collapsed": false
        },
        {
          "source": [
            "Prefix and suffix functions"
          ],
          "metadata": {},
          "cell_type": "heading",
          "level": 3
        },
        {
          "outputs": [
            {
              "html": [
                "<pre style=\"color:slategray;max-height:100px;overflow:hidden\" \n",
                "onclick=\"\n",
                "if (this.style.maxHeight === 'none') \n",
                "    this.style.maxHeight = '100px';\n",
                "else\n",
                "    this.style.maxHeight = 'none'; \n",
                "\">- : Core.Std.Int.t = 4\n",
                "</pre>"
              ],
              "output_type": "pyout",
              "prompt_number": 38,
              "metadata": {}
            },
            {
              "html": [
                "<pre style=\"color:slategray;max-height:100px;overflow:hidden\" \n",
                "onclick=\"\n",
                "if (this.style.maxHeight === 'none') \n",
                "    this.style.maxHeight = '100px';\n",
                "else\n",
                "    this.style.maxHeight = 'none'; \n",
                "\">- : int = 7\n",
                "</pre>"
              ],
              "output_type": "pyout",
              "prompt_number": 38,
              "metadata": {}
            },
            {
              "html": [
                "<pre style=\"color:slategray;max-height:100px;overflow:hidden\" \n",
                "onclick=\"\n",
                "if (this.style.maxHeight === 'none') \n",
                "    this.style.maxHeight = '100px';\n",
                "else\n",
                "    this.style.maxHeight = 'none'; \n",
                "\">- : int = 7\n",
                "</pre>"
              ],
              "output_type": "pyout",
              "prompt_number": 38,
              "metadata": {}
            }
          ],
          "input": [
            "Int.max 3 4 (* prefix *) ;;\n",
            "3 + 4 (* infix *) ;;\n",
            "\n",
            "(+) 3 4 (* infix as prefix *) ;;"
          ],
          "metadata": {},
          "cell_type": "code",
          "prompt_number": 38,
          "language": "python",
          "collapsed": false
        },
        {
          "source": [
            "Automatically if any of the functions is a sequence of the following characters `! $ % & * - . / : < = > ? @ ^ | ~` and they can be redefined."
          ],
          "metadata": {},
          "cell_type": "markdown"
        },
        {
          "outputs": [
            {
              "html": [
                "<pre style=\"color:slategray;max-height:100px;overflow:hidden\" \n",
                "onclick=\"\n",
                "if (this.style.maxHeight === 'none') \n",
                "    this.style.maxHeight = '100px';\n",
                "else\n",
                "    this.style.maxHeight = 'none'; \n",
                "\">val ( *** ) : float -&gt; float -&gt; float = &lt;fun&gt;\n",
                "</pre>"
              ],
              "output_type": "pyout",
              "prompt_number": 42,
              "metadata": {}
            },
            {
              "html": [
                "<pre style=\"color:slategray;max-height:100px;overflow:hidden\" \n",
                "onclick=\"\n",
                "if (this.style.maxHeight === 'none') \n",
                "    this.style.maxHeight = '100px';\n",
                "else\n",
                "    this.style.maxHeight = 'none'; \n",
                "\">- : float = 43046721.\n",
                "</pre>"
              ],
              "output_type": "pyout",
              "prompt_number": 42,
              "metadata": {}
            }
          ],
          "input": [
            "let ( *** ) x y = (x ** y) ** y ;;\n",
            "3. *** 4. ;;"
          ],
          "metadata": {},
          "cell_type": "code",
          "prompt_number": 42,
          "language": "python",
          "collapsed": false
        },
        {
          "source": [
            "This is useful, in fact, we can define a very awesome operator:"
          ],
          "metadata": {},
          "cell_type": "markdown"
        },
        {
          "outputs": [
            {
              "text": [
                "/bin\n",
                "/sbin\n",
                "/usr/bin\n",
                "/usr/local/bin\n"
              ],
              "output_type": "stream",
              "stream": "stdout"
            },
            {
              "html": [
                "<pre style=\"color:slategray;max-height:100px;overflow:hidden\" \n",
                "onclick=\"\n",
                "if (this.style.maxHeight === 'none') \n",
                "    this.style.maxHeight = '100px';\n",
                "else\n",
                "    this.style.maxHeight = 'none'; \n",
                "\">val path : string = &quot;/usr/bin:/usr/local/bin:/bin:/sbin&quot;\n",
                "</pre>"
              ],
              "output_type": "pyout",
              "prompt_number": 44,
              "metadata": {}
            },
            {
              "html": [
                "<pre style=\"color:slategray;max-height:100px;overflow:hidden\" \n",
                "onclick=\"\n",
                "if (this.style.maxHeight === 'none') \n",
                "    this.style.maxHeight = '100px';\n",
                "else\n",
                "    this.style.maxHeight = 'none'; \n",
                "\">- : unit = ()\n",
                "</pre>"
              ],
              "output_type": "pyout",
              "prompt_number": 44,
              "metadata": {}
            }
          ],
          "input": [
            "let path = \"/usr/bin:/usr/local/bin:/bin:/sbin\" ;;\n",
            "String.split ~on:':' path\n",
            "    |> List.dedup ~compare:String.compare\n",
            "    |> List.iter ~f:print_endline\n",
            ";;"
          ],
          "metadata": {},
          "cell_type": "code",
          "prompt_number": 44,
          "language": "python",
          "collapsed": false
        },
        {
          "source": [
            "Another way to do this is ugly:"
          ],
          "metadata": {},
          "cell_type": "markdown"
        },
        {
          "outputs": [
            {
              "text": [
                "/bin\n",
                "/sbin\n",
                "/usr/bin\n",
                "/usr/local/bin\n"
              ],
              "output_type": "stream",
              "stream": "stdout"
            },
            {
              "html": [
                "<pre style=\"color:slategray;max-height:100px;overflow:hidden\" \n",
                "onclick=\"\n",
                "if (this.style.maxHeight === 'none') \n",
                "    this.style.maxHeight = '100px';\n",
                "else\n",
                "    this.style.maxHeight = 'none'; \n",
                "\">val path : string = &quot;/usr/bin:/usr/local/bin:/bin:/sbin&quot;\n",
                "</pre>"
              ],
              "output_type": "pyout",
              "prompt_number": 50,
              "metadata": {}
            },
            {
              "html": [
                "<pre style=\"color:slategray;max-height:100px;overflow:hidden\" \n",
                "onclick=\"\n",
                "if (this.style.maxHeight === 'none') \n",
                "    this.style.maxHeight = '100px';\n",
                "else\n",
                "    this.style.maxHeight = 'none'; \n",
                "\">- : unit = ()\n",
                "</pre>"
              ],
              "output_type": "pyout",
              "prompt_number": 50,
              "metadata": {}
            }
          ],
          "input": [
            "let path = \"/usr/bin:/usr/local/bin:/bin:/sbin\" ;;\n",
            "\n",
            "let split_path = String.split ~on:':' path in\n",
            "let deduped_path = List.dedup ~compare:String.compare split_path in\n",
            "List.iter ~f:print_endline deduped_path ;;"
          ],
          "metadata": {},
          "cell_type": "code",
          "prompt_number": 50,
          "language": "python",
          "collapsed": false
        },
        {
          "outputs": [],
          "input": [],
          "metadata": {},
          "cell_type": "code",
          "language": "python",
          "collapsed": false
        }
      ],
      "metadata": {}
    }
  ],
  "metadata": { "name": "", "language": "ocaml" },
  "nbformat": 3,
  "nbformat_minor": 0
}