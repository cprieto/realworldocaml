{
  "worksheets": [
    {
      "cells": [
        {
          "source": [
            "Chapter 1 - Introduction to OCaml"
          ],
          "metadata": {},
          "cell_type": "heading",
          "level": 1
        },
        {
          "source": [
            "This is a fast introduction to the OCaml language, bear with me..."
          ],
          "metadata": {},
          "cell_type": "markdown"
        },
        {
          "source": [
            "You specify variables with the keyword `let`, this is used as well to specify functions, remember, OCaml is a functional language!"
          ],
          "metadata": {},
          "cell_type": "markdown"
        },
        {
          "outputs": [
            {
              "html": [
                "<pre style=\"color:slategray;max-height:100px;overflow:hidden\" onclick=\"if (this.style.maxHeight === 'none') this.style.maxHeight = '100px'; else this.style.maxHeight = 'none'; \">val x : int = 5\n",
                "</pre>"
              ],
              "output_type": "pyout",
              "prompt_number": 2,
              "metadata": {}
            },
            {
              "html": [
                "<pre style=\"color:slategray;max-height:100px;overflow:hidden\" onclick=\"if (this.style.maxHeight === 'none') this.style.maxHeight = '100px'; else this.style.maxHeight = 'none'; \">val y : int = 15\n",
                "</pre>"
              ],
              "output_type": "pyout",
              "prompt_number": 2,
              "metadata": {}
            },
            {
              "html": [
                "<pre style=\"color:slategray;max-height:100px;overflow:hidden\" onclick=\"if (this.style.maxHeight === 'none') this.style.maxHeight = '100px'; else this.style.maxHeight = 'none'; \">val sum_ab : int -&gt; int -&gt; int = &lt;fun&gt;\n",
                "</pre>"
              ],
              "output_type": "pyout",
              "prompt_number": 2,
              "metadata": {}
            },
            {
              "html": [
                "<pre style=\"color:slategray;max-height:100px;overflow:hidden\" onclick=\"if (this.style.maxHeight === 'none') this.style.maxHeight = '100px'; else this.style.maxHeight = 'none'; \">- : int = 20\n",
                "</pre>"
              ],
              "output_type": "pyout",
              "prompt_number": 2,
              "metadata": {}
            }
          ],
          "input": [
            "let x = 5 ;;\n",
            "let y = x + 10 ;;\n",
            "\n",
            "let sum_ab x y = x + y ;;\n",
            "\n",
            "sum_ab x y ;;"
          ],
          "metadata": {},
          "cell_type": "code",
          "prompt_number": 2,
          "language": "python",
          "collapsed": false
        },
        {
          "source": [
            "We have _tuples_ and _lists_ as well. Tuples can contain different types in the same tuple but list cannot. Tuples _will always use_ the `comma notation` to define a tuple while lists use the `semicolon notation` to separate items."
          ],
          "metadata": {},
          "cell_type": "markdown"
        },
        {
          "outputs": [
            {
              "html": [
                "<pre style=\"color:slategray;max-height:100px;overflow:hidden\" onclick=\"if (this.style.maxHeight === 'none') this.style.maxHeight = '100px'; else this.style.maxHeight = 'none'; \">val sample_tuple : int * int = (3, 5)\n",
                "</pre>"
              ],
              "output_type": "pyout",
              "prompt_number": 3,
              "metadata": {}
            }
          ],
          "input": [
            "let sample_tuple = (3,5)"
          ],
          "metadata": {},
          "cell_type": "code",
          "prompt_number": 3,
          "language": "python",
          "collapsed": false
        },
        {
          "outputs": [
            {
              "html": [
                "<pre style=\"color:slategray;max-height:100px;overflow:hidden\" onclick=\"if (this.style.maxHeight === 'none') this.style.maxHeight = '100px'; else this.style.maxHeight = 'none'; \">val sample_list : int list = [4; 5]\n",
                "</pre>"
              ],
              "output_type": "pyout",
              "prompt_number": 4,
              "metadata": {}
            }
          ],
          "input": [
            "let sample_list = [4;5]"
          ],
          "metadata": {},
          "cell_type": "code",
          "prompt_number": 4,
          "language": "python",
          "collapsed": false
        },
        {
          "source": [
            "If you use the comma notation inside a list declaration you will end up with a list of that tuple:"
          ],
          "metadata": {},
          "cell_type": "markdown"
        },
        {
          "outputs": [
            {
              "html": [
                "<pre style=\"color:slategray;max-height:100px;overflow:hidden\" onclick=\"if (this.style.maxHeight === 'none') this.style.maxHeight = '100px'; else this.style.maxHeight = 'none'; \">- : (int * int) list = [(7, 8)]\n",
                "</pre>"
              ],
              "output_type": "pyout",
              "prompt_number": 5,
              "metadata": {}
            }
          ],
          "input": [
            "[7,8]"
          ],
          "metadata": {},
          "cell_type": "code",
          "prompt_number": 5,
          "language": "python",
          "collapsed": false
        },
        {
          "source": [
            "A feature of lists in OCaml is the ability to grab or append items to a list using the `double colon notation`, this works _only for items at the beginning_. Remember, we are creating a new list with this operators, not modifying the existing list."
          ],
          "metadata": {},
          "cell_type": "markdown"
        },
        {
          "outputs": [
            {
              "html": [
                "<pre style=\"color:slategray;max-height:100px;overflow:hidden\" \n",
                "onclick=\"\n",
                "if (this.style.maxHeight === 'none') \n",
                "    this.style.maxHeight = '100px';\n",
                "else\n",
                "    this.style.maxHeight = 'none'; \n",
                "\">val languages : string list = [&quot;Spanish&quot;; &quot;English&quot;; &quot;Catalan&quot;]\n",
                "</pre>"
              ],
              "output_type": "pyout",
              "prompt_number": 2,
              "metadata": {}
            },
            {
              "html": [
                "<pre style=\"color:slategray;max-height:100px;overflow:hidden\" \n",
                "onclick=\"\n",
                "if (this.style.maxHeight === 'none') \n",
                "    this.style.maxHeight = '100px';\n",
                "else\n",
                "    this.style.maxHeight = 'none'; \n",
                "\">- : string list = [&quot;French&quot;; &quot;Spanish&quot;; &quot;English&quot;; &quot;Catalan&quot;]\n",
                "</pre>"
              ],
              "output_type": "pyout",
              "prompt_number": 2,
              "metadata": {}
            },
            {
              "html": [
                "<pre style=\"color:slategray;max-height:100px;overflow:hidden\" \n",
                "onclick=\"\n",
                "if (this.style.maxHeight === 'none') \n",
                "    this.style.maxHeight = '100px';\n",
                "else\n",
                "    this.style.maxHeight = 'none'; \n",
                "\">- : string list = [&quot;Spanish&quot;; &quot;English&quot;; &quot;Catalan&quot;]\n",
                "</pre>"
              ],
              "output_type": "pyout",
              "prompt_number": 2,
              "metadata": {}
            }
          ],
          "input": [
            "let languages = [\"Spanish\";\"English\";\"Catalan\"] ;;\n",
            "\"French\"::languages ;;\n",
            "languages ;;"
          ],
          "metadata": {},
          "cell_type": "code",
          "prompt_number": 2,
          "language": "python",
          "collapsed": false
        },
        {
          "source": [
            "We can concatenate lists as well, it is easy with the `@` operator. Remember, both lists should be of the same type because anyway, you cannot have lists with different types."
          ],
          "metadata": {},
          "cell_type": "markdown"
        },
        {
          "outputs": [
            {
              "html": [
                "<pre style=\"color:slategray;max-height:100px;overflow:hidden\" \n",
                "onclick=\"\n",
                "if (this.style.maxHeight === 'none') \n",
                "    this.style.maxHeight = '100px';\n",
                "else\n",
                "    this.style.maxHeight = 'none'; \n",
                "\">val programming_languages : string list = [&quot;C&quot;; &quot;C#&quot;; &quot;C++&quot;]\n",
                "</pre>"
              ],
              "output_type": "pyout",
              "prompt_number": 3,
              "metadata": {}
            },
            {
              "html": [
                "<pre style=\"color:slategray;max-height:100px;overflow:hidden\" \n",
                "onclick=\"\n",
                "if (this.style.maxHeight === 'none') \n",
                "    this.style.maxHeight = '100px';\n",
                "else\n",
                "    this.style.maxHeight = 'none'; \n",
                "\">- : string list = [&quot;C&quot;; &quot;C#&quot;; &quot;C++&quot;; &quot;Spanish&quot;; &quot;English&quot;; &quot;Catalan&quot;]\n",
                "</pre>"
              ],
              "output_type": "pyout",
              "prompt_number": 3,
              "metadata": {}
            }
          ],
          "input": [
            "let programming_languages = [\"C\";\"C#\";\"C++\"] ;;\n",
            "programming_languages @ languages ;;"
          ],
          "metadata": {},
          "cell_type": "code",
          "prompt_number": 3,
          "language": "python",
          "collapsed": false
        },
        {
          "source": [
            "As other ML languages, we have _pattern matching_, this works not only with tuples but with lists as well (and _records_)"
          ],
          "metadata": {},
          "cell_type": "markdown"
        },
        {
          "outputs": [
            {
              "text": [
                "\tCamlp4 Parsing version 4.03.0\n",
                "\n"
              ],
              "output_type": "stream",
              "stream": "stdout"
            },
            {
              "html": [
                "<pre style=\"color:slategray;max-height:100px;overflow:hidden\" \n",
                "onclick=\"\n",
                "if (this.style.maxHeight === 'none') \n",
                "    this.style.maxHeight = '100px';\n",
                "else\n",
                "    this.style.maxHeight = 'none'; \n",
                "\">val x : int = 4\n",
                "val y : int = 7\n",
                "</pre>"
              ],
              "output_type": "pyout",
              "prompt_number": 1,
              "metadata": {}
            }
          ],
          "input": [
            "let x, y = (4,7) ;;"
          ],
          "metadata": {},
          "cell_type": "code",
          "prompt_number": 1,
          "language": "python",
          "collapsed": false
        },
        {
          "source": [
            "We can use pattern matching with functions too, **always put attention on the warnings** because it will tell you about patterns you are not covering, for example, for the next one:"
          ],
          "metadata": {},
          "cell_type": "markdown"
        },
        {
          "outputs": [
            {
              "text": [
                "File \"[4]\", line 1, characters 17-58:\n",
                "Warning 8: this pattern-matching is not exhaustive.\n",
                "Here is an example of a value that is not matched:\n",
                "[]\n"
              ],
              "output_type": "stream",
              "stream": "stderr"
            },
            {
              "html": [
                "<pre style=\"color:slategray;max-height:100px;overflow:hidden\" \n",
                "onclick=\"\n",
                "if (this.style.maxHeight === 'none') \n",
                "    this.style.maxHeight = '100px';\n",
                "else\n",
                "    this.style.maxHeight = 'none'; \n",
                "\">val my_favourite : 'a list -&gt; 'a = &lt;fun&gt;\n",
                "</pre>"
              ],
              "output_type": "pyout",
              "prompt_number": 4,
              "metadata": {}
            }
          ],
          "input": [
            "let my_favourite (my_favourite :: the_rest) = my_favourite ;;"
          ],
          "metadata": {},
          "cell_type": "code",
          "prompt_number": 4,
          "language": "python",
          "collapsed": false
        },
        {
          "source": [
            "We have an issue, because the _empty list_ (`[]`) is not matched, if we try to run my favourite with an empty list it is going to fail. Let's fix that with the keywords `match` and `with`:"
          ],
          "metadata": {},
          "cell_type": "markdown"
        },
        {
          "outputs": [
            {
              "html": [
                "<pre style=\"color:slategray;max-height:100px;overflow:hidden\" \n",
                "onclick=\"\n",
                "if (this.style.maxHeight === 'none') \n",
                "    this.style.maxHeight = '100px';\n",
                "else\n",
                "    this.style.maxHeight = 'none'; \n",
                "\">val my_favourite : string list -&gt; string = &lt;fun&gt;\n",
                "</pre>"
              ],
              "output_type": "pyout",
              "prompt_number": 6,
              "metadata": {}
            },
            {
              "html": [
                "<pre style=\"color:slategray;max-height:100px;overflow:hidden\" \n",
                "onclick=\"\n",
                "if (this.style.maxHeight === 'none') \n",
                "    this.style.maxHeight = '100px';\n",
                "else\n",
                "    this.style.maxHeight = 'none'; \n",
                "\">- : string = &quot;Spanish&quot;\n",
                "</pre>"
              ],
              "output_type": "pyout",
              "prompt_number": 6,
              "metadata": {}
            }
          ],
          "input": [
            "let my_favourite languages = \n",
            "    match languages with\n",
            "        | [] -> \"OCaml\" (* Good default *)\n",
            "        | hd :: tl -> hd (* The first always *)\n",
            ";;\n",
            "my_favourite languages ;;"
          ],
          "metadata": {},
          "cell_type": "code",
          "prompt_number": 6,
          "language": "python",
          "collapsed": false
        },
        {
          "source": [
            "Oh yeah, comments are delimited with `(*` and `*)`"
          ],
          "metadata": {},
          "cell_type": "markdown"
        },
        {
          "source": [
            "Recursivity"
          ],
          "metadata": {},
          "cell_type": "heading",
          "level": 2
        },
        {
          "source": [
            "For recursive functions we need to append the keyword `rec` to be able to use ourselves inside the function body:"
          ],
          "metadata": {},
          "cell_type": "markdown"
        },
        {
          "outputs": [
            {
              "html": [
                "<pre style=\"color:slategray;max-height:100px;overflow:hidden\" \n",
                "onclick=\"\n",
                "if (this.style.maxHeight === 'none') \n",
                "    this.style.maxHeight = '100px';\n",
                "else\n",
                "    this.style.maxHeight = 'none'; \n",
                "\">val sum_list : int list -&gt; int = &lt;fun&gt;\n",
                "</pre>"
              ],
              "output_type": "pyout",
              "prompt_number": 10,
              "metadata": {}
            },
            {
              "html": [
                "<pre style=\"color:slategray;max-height:100px;overflow:hidden\" \n",
                "onclick=\"\n",
                "if (this.style.maxHeight === 'none') \n",
                "    this.style.maxHeight = '100px';\n",
                "else\n",
                "    this.style.maxHeight = 'none'; \n",
                "\">- : int = 10\n",
                "</pre>"
              ],
              "output_type": "pyout",
              "prompt_number": 10,
              "metadata": {}
            }
          ],
          "input": [
            "let rec sum_list items = \n",
            "    match items with\n",
            "        | [] -> 0\n",
            "        | hd :: tl -> hd + sum_list tl\n",
            ";;\n",
            "sum_list [1;2;3;4]"
          ],
          "metadata": {},
          "cell_type": "code",
          "prompt_number": 10,
          "language": "python",
          "collapsed": false
        },
        {
          "source": [
            "Some or None, or optional values"
          ],
          "metadata": {},
          "cell_type": "heading",
          "level": 2
        },
        {
          "source": [
            "Sometimes you don't know if you need to return a value or not, that is when `None` is useful, but be careful because if you use `None` the present of a value should be expressed with the contrapart `Some`."
          ],
          "metadata": {},
          "cell_type": "markdown"
        },
        {
          "outputs": [
            {
              "html": [
                "<pre style=\"color:slategray;max-height:100px;overflow:hidden\" \n",
                "onclick=\"\n",
                "if (this.style.maxHeight === 'none') \n",
                "    this.style.maxHeight = '100px';\n",
                "else\n",
                "    this.style.maxHeight = 'none'; \n",
                "\">val divide_numbers : int -&gt; int -&gt; int option = &lt;fun&gt;\n",
                "</pre>"
              ],
              "output_type": "pyout",
              "prompt_number": 11,
              "metadata": {}
            }
          ],
          "input": [
            "let divide_numbers x y =\n",
            "    if x = 0 then None else Some (x / y)"
          ],
          "metadata": {},
          "cell_type": "code",
          "prompt_number": 11,
          "language": "python",
          "collapsed": false
        },
        {
          "source": [
            "As you may see the return type is `optional` and not int. This is very important and we will see it later. We can use that for sweet match expressions too:"
          ],
          "metadata": {},
          "cell_type": "markdown"
        },
        {
          "outputs": [
            {
              "html": [
                "<pre style=\"color:slategray;max-height:100px;overflow:hidden\" \n",
                "onclick=\"\n",
                "if (this.style.maxHeight === 'none') \n",
                "    this.style.maxHeight = '100px';\n",
                "else\n",
                "    this.style.maxHeight = 'none'; \n",
                "\">val log_messages : Core.Std.Time.t option -&gt; string -&gt; string = &lt;fun&gt;\n",
                "</pre>"
              ],
              "output_type": "pyout",
              "prompt_number": 3,
              "metadata": {}
            }
          ],
          "input": [
            "let log_messages maybe_time message = \n",
            "    let time =\n",
            "        match maybe_time with\n",
            "            | None -> Time.now ()\n",
            "            | Some at -> at\n",
            "    in\n",
            "    Time.to_string time ^ \" -- \" ^ message\n",
            ";;"
          ],
          "metadata": {},
          "cell_type": "code",
          "prompt_number": 3,
          "language": "python",
          "collapsed": false
        },
        {
          "source": [
            "We see a few things in the previous code:\n",
            "\n",
            "* The usage of `^` for concatenate strings\n",
            "* The usage of `let` and `in` to specify the scope of a variable, in this case, `time` exists only in the scope of the line after `in`\n",
            "* The usage of None to see when None value has been passed or Some when a value has been passed\n",
            "\n",
            "We can use the following to specify values when passing to the function:"
          ],
          "metadata": {},
          "cell_type": "markdown"
        },
        {
          "outputs": [
            {
              "html": [
                "<pre style=\"color:slategray;max-height:100px;overflow:hidden\" \n",
                "onclick=\"\n",
                "if (this.style.maxHeight === 'none') \n",
                "    this.style.maxHeight = '100px';\n",
                "else\n",
                "    this.style.maxHeight = 'none'; \n",
                "\">- : string = &quot;2017-04-26 20:12:37.744171+10:00 -- hello world&quot;\n",
                "</pre>"
              ],
              "output_type": "pyout",
              "prompt_number": 10,
              "metadata": {}
            },
            {
              "html": [
                "<pre style=\"color:slategray;max-height:100px;overflow:hidden\" \n",
                "onclick=\"\n",
                "if (this.style.maxHeight === 'none') \n",
                "    this.style.maxHeight = '100px';\n",
                "else\n",
                "    this.style.maxHeight = 'none'; \n",
                "\">- : string = &quot;1970-01-01 10:00:00.000000+10:00 -- hola mundo&quot;\n",
                "</pre>"
              ],
              "output_type": "pyout",
              "prompt_number": 10,
              "metadata": {}
            }
          ],
          "input": [
            "log_messages None \"hello world\" ;;\n",
            "log_messages (Some Time.epoch) \"hola mundo\";;"
          ],
          "metadata": {},
          "cell_type": "code",
          "prompt_number": 10,
          "language": "python",
          "collapsed": false
        },
        {
          "source": [
            "**Notice** you have to pass `Some` with a value, you cannot pass the value directly!"
          ],
          "metadata": {},
          "cell_type": "markdown"
        },
        {
          "source": [
            "Records"
          ],
          "metadata": {},
          "cell_type": "heading",
          "level": 2
        },
        {
          "outputs": [
            {
              "html": [
                "<pre style=\"color:slategray;max-height:100px;overflow:hidden\" \n",
                "onclick=\"\n",
                "if (this.style.maxHeight === 'none') \n",
                "    this.style.maxHeight = '100px';\n",
                "else\n",
                "    this.style.maxHeight = 'none'; \n",
                "\">type point2d = { x : float; y : float; }\n",
                "</pre>"
              ],
              "output_type": "pyout",
              "prompt_number": 2,
              "metadata": {}
            },
            {
              "html": [
                "<pre style=\"color:slategray;max-height:100px;overflow:hidden\" \n",
                "onclick=\"\n",
                "if (this.style.maxHeight === 'none') \n",
                "    this.style.maxHeight = '100px';\n",
                "else\n",
                "    this.style.maxHeight = 'none'; \n",
                "\">val p : point2d = {x = 3.; y = 4.}\n",
                "</pre>"
              ],
              "output_type": "pyout",
              "prompt_number": 2,
              "metadata": {}
            }
          ],
          "input": [
            "type point2d = { x: float; y: float }\n",
            "let p = { x = 3.; y = 4. }"
          ],
          "metadata": {},
          "cell_type": "code",
          "prompt_number": 2,
          "language": "python",
          "collapsed": false
        },
        {
          "source": [
            "Notice the notation for the type, we separate the name from the type with `:`\n",
            "\n",
            "We can use pattern matching as well:"
          ],
          "metadata": {},
          "cell_type": "markdown"
        },
        {
          "outputs": [
            {
              "html": [
                "<pre style=\"color:slategray;max-height:100px;overflow:hidden\" \n",
                "onclick=\"\n",
                "if (this.style.maxHeight === 'none') \n",
                "    this.style.maxHeight = '100px';\n",
                "else\n",
                "    this.style.maxHeight = 'none'; \n",
                "\">val magnitude : point2d -&gt; float = &lt;fun&gt;\n",
                "</pre>"
              ],
              "output_type": "pyout",
              "prompt_number": 3,
              "metadata": {}
            }
          ],
          "input": [
            "let magnitude { x = x_pos; y = y_pos } = sqrt (x_pos ** 2. +. y_pos ** 2.) ;;"
          ],
          "metadata": {},
          "cell_type": "code",
          "prompt_number": 3,
          "language": "python",
          "collapsed": false
        },
        {
          "source": [
            "This is the interesting thing, as you can see OCaml is smart enough to know that `magnitude` is a function that takes a `point2d` (because it matches the definition of the type `point2d`) and it returns a float (or well, the pithagorean product).\n",
            "\n",
            "Of course you can do _field punning_ because we match the fields with the variables!"
          ],
          "metadata": {},
          "cell_type": "markdown"
        },
        {
          "outputs": [
            {
              "html": [
                "<pre style=\"color:slategray;max-height:100px;overflow:hidden\" \n",
                "onclick=\"\n",
                "if (this.style.maxHeight === 'none') \n",
                "    this.style.maxHeight = '100px';\n",
                "else\n",
                "    this.style.maxHeight = 'none'; \n",
                "\">val magnitude : point2d -&gt; float = &lt;fun&gt;\n",
                "</pre>"
              ],
              "output_type": "pyout",
              "prompt_number": 5,
              "metadata": {}
            }
          ],
          "input": [
            "let magnitude {x; y} = sqrt (x ** 2. +. y ** 2.)"
          ],
          "metadata": {},
          "cell_type": "code",
          "prompt_number": 5,
          "language": "python",
          "collapsed": false
        },
        {
          "source": [
            "** Important! ** Remember the `;` between fields! that bit me a few times.\n",
            "\n",
            "There is another notation named _dot notation_ to access fields which is useful to access fields of different structures. For example, notice here OCaml infers that the type needed is `point2d`, in fact two of them."
          ],
          "metadata": {},
          "cell_type": "markdown"
        },
        {
          "outputs": [
            {
              "html": [
                "<pre style=\"color:slategray;max-height:100px;overflow:hidden\" \n",
                "onclick=\"\n",
                "if (this.style.maxHeight === 'none') \n",
                "    this.style.maxHeight = '100px';\n",
                "else\n",
                "    this.style.maxHeight = 'none'; \n",
                "\">val distance : point2d -&gt; point2d -&gt; float = &lt;fun&gt;\n",
                "</pre>"
              ],
              "output_type": "pyout",
              "prompt_number": 6,
              "metadata": {}
            }
          ],
          "input": [
            "let distance v1 v2 = magnitude { x = v1.x -. v2.x; y = v1.y -. v2.y } ;;"
          ],
          "metadata": {},
          "cell_type": "code",
          "prompt_number": 6,
          "language": "python",
          "collapsed": false
        },
        {
          "source": [
            "Of course we can use our type to compose bigger types:"
          ],
          "metadata": {},
          "cell_type": "markdown"
        },
        {
          "outputs": [
            {
              "html": [
                "<pre style=\"color:slategray;max-height:100px;overflow:hidden\" \n",
                "onclick=\"\n",
                "if (this.style.maxHeight === 'none') \n",
                "    this.style.maxHeight = '100px';\n",
                "else\n",
                "    this.style.maxHeight = 'none'; \n",
                "\">type circle_desc = { center : point2d; radius : float; }\n",
                "</pre>"
              ],
              "output_type": "pyout",
              "prompt_number": 8,
              "metadata": {}
            },
            {
              "html": [
                "<pre style=\"color:slategray;max-height:100px;overflow:hidden\" \n",
                "onclick=\"\n",
                "if (this.style.maxHeight === 'none') \n",
                "    this.style.maxHeight = '100px';\n",
                "else\n",
                "    this.style.maxHeight = 'none'; \n",
                "\">type rect_desc = { lower_left : point2d; width : float; height : float; }\n",
                "</pre>"
              ],
              "output_type": "pyout",
              "prompt_number": 8,
              "metadata": {}
            },
            {
              "html": [
                "<pre style=\"color:slategray;max-height:100px;overflow:hidden\" \n",
                "onclick=\"\n",
                "if (this.style.maxHeight === 'none') \n",
                "    this.style.maxHeight = '100px';\n",
                "else\n",
                "    this.style.maxHeight = 'none'; \n",
                "\">type segment_desc = { endpoint1 : point2d; endpoint2 : point2d; }\n",
                "</pre>"
              ],
              "output_type": "pyout",
              "prompt_number": 8,
              "metadata": {}
            }
          ],
          "input": [
            "type circle_desc = { center: point2d; radius: float }\n",
            "type rect_desc = { lower_left: point2d; width: float; height: float }\n",
            "type segment_desc = { endpoint1: point2d; endpoint2: point2d }"
          ],
          "metadata": {},
          "cell_type": "code",
          "prompt_number": 8,
          "language": "python",
          "collapsed": false
        },
        {
          "source": [
            "Again, ** notice ** the equal sign, it is not `type blah {}` but more `type blah = {}`. That thing bit me many times!"
          ],
          "metadata": {},
          "cell_type": "markdown"
        },
        {
          "source": [
            "As you can see, those three types are _three completely different types!_ so how do we say \"I want a type that can be this or that or this other\"? Well, we use _variants_"
          ],
          "metadata": {},
          "cell_type": "markdown"
        },
        {
          "outputs": [
            {
              "html": [
                "<pre style=\"color:slategray;max-height:100px;overflow:hidden\" \n",
                "onclick=\"\n",
                "if (this.style.maxHeight === 'none') \n",
                "    this.style.maxHeight = '100px';\n",
                "else\n",
                "    this.style.maxHeight = 'none'; \n",
                "\">type scene_element =\n",
                "    Circle of circle_desc\n",
                "  | Rect of rect_desc\n",
                "  | Segment of segment_desc\n",
                "</pre>"
              ],
              "output_type": "pyout",
              "prompt_number": 10,
              "metadata": {}
            }
          ],
          "input": [
            "type scene_element = \n",
            "      Circle  of circle_desc\n",
            "    | Rect    of rect_desc\n",
            "    | Segment of segment_desc"
          ],
          "metadata": {},
          "cell_type": "code",
          "prompt_number": 10,
          "language": "python",
          "collapsed": false
        },
        {
          "source": [
            "The \"cases\" are separated with `|` and the first one is optional. The first part specify the **Tag** and the second the type. We can use that type in a function:"
          ],
          "metadata": {},
          "cell_type": "markdown"
        },
        {
          "outputs": [
            {
              "html": [
                "<pre style=\"color:slategray;max-height:100px;overflow:hidden\" \n",
                "onclick=\"\n",
                "if (this.style.maxHeight === 'none') \n",
                "    this.style.maxHeight = '100px';\n",
                "else\n",
                "    this.style.maxHeight = 'none'; \n",
                "\">- : scene_element = Circle {center = {x = 4.; y = 4.}; radius = 0.5}\n",
                "</pre>"
              ],
              "output_type": "pyout",
              "prompt_number": 21,
              "metadata": {}
            }
          ],
          "input": [
            "Circle { center = { x = 4.; y = 4.}; radius = 0.5 }"
          ],
          "metadata": {},
          "cell_type": "code",
          "prompt_number": 21,
          "language": "python",
          "collapsed": false
        },
        {
          "outputs": [
            {
              "html": [
                "<pre style=\"color:slategray;max-height:100px;overflow:hidden\" \n",
                "onclick=\"\n",
                "if (this.style.maxHeight === 'none') \n",
                "    this.style.maxHeight = '100px';\n",
                "else\n",
                "    this.style.maxHeight = 'none'; \n",
                "\">val is_inside_scene_element : point2d -&gt; scene_element -&gt; bool = &lt;fun&gt;\n",
                "</pre>"
              ],
              "output_type": "pyout",
              "prompt_number": 14,
              "metadata": {}
            }
          ],
          "input": [
            "let is_inside_scene_element point scene_element =\n",
            "    match scene_element with\n",
            "        | Circle { center; radius } -> distance center point  < radius\n",
            "        | Rect { lower_left; width; height } -> point.x > lower_left.x \n",
            "            && point.x < lower_left.x +. width\n",
            "            && point.y < lower_left.y +. height\n",
            "        | Segment { endpoint1; endpoint2 } -> false\n",
            ";;"
          ],
          "metadata": {},
          "cell_type": "code",
          "prompt_number": 14,
          "language": "python",
          "collapsed": false
        },
        {
          "outputs": [
            {
              "html": [
                "<pre style=\"color:slategray;max-height:100px;overflow:hidden\" \n",
                "onclick=\"\n",
                "if (this.style.maxHeight === 'none') \n",
                "    this.style.maxHeight = '100px';\n",
                "else\n",
                "    this.style.maxHeight = 'none'; \n",
                "\">val is_inside_scene : point2d -&gt; scene_element Core.Std.List.t -&gt; bool =\n",
                "  &lt;fun&gt;\n",
                "</pre>"
              ],
              "output_type": "pyout",
              "prompt_number": 28,
              "metadata": {}
            }
          ],
          "input": [
            "let is_inside_scene point scene = List.exists scene ~f:(fun el -> is_inside_scene_element point el)"
          ],
          "metadata": {},
          "cell_type": "code",
          "prompt_number": 28,
          "language": "python",
          "collapsed": false
        },
        {
          "outputs": [
            {
              "html": [
                "<pre style=\"color:slategray;max-height:100px;overflow:hidden\" \n",
                "onclick=\"\n",
                "if (this.style.maxHeight === 'none') \n",
                "    this.style.maxHeight = '100px';\n",
                "else\n",
                "    this.style.maxHeight = 'none'; \n",
                "\">- : bool = false\n",
                "</pre>"
              ],
              "output_type": "pyout",
              "prompt_number": 29,
              "metadata": {}
            }
          ],
          "input": [
            "is_inside_scene {x = 3.; y = 7.} [ Circle { center = { x = 4.; y = 4.}; radius = 0.5 } ]"
          ],
          "metadata": {},
          "cell_type": "code",
          "prompt_number": 29,
          "language": "python",
          "collapsed": false
        },
        {
          "source": [
            "Notice the usage of the anonymous function (keyword `fun`)"
          ],
          "metadata": {},
          "cell_type": "markdown"
        },
        {
          "source": [
            "Mutable records"
          ],
          "metadata": {},
          "cell_type": "heading",
          "level": 3
        },
        {
          "source": [
            "So far the structure fields are immutables, yep, the good thing. We can make them mutable with our friend `mutable`:"
          ],
          "metadata": {},
          "cell_type": "markdown"
        },
        {
          "outputs": [
            {
              "html": [
                "<pre style=\"color:slategray;max-height:100px;overflow:hidden\" \n",
                "onclick=\"\n",
                "if (this.style.maxHeight === 'none') \n",
                "    this.style.maxHeight = '100px';\n",
                "else\n",
                "    this.style.maxHeight = 'none'; \n",
                "\">type running_sum = {\n",
                "  mutable sum : float;\n",
                "  mutable sum_sq : float;\n",
                "  mutable samples : int;\n",
                "}\n",
                "</pre>"
              ],
              "output_type": "pyout",
              "prompt_number": 30,
              "metadata": {}
            }
          ],
          "input": [
            "type running_sum = {\n",
            "    mutable sum     : float;\n",
            "    mutable sum_sq  : float;\n",
            "    mutable samples : int;\n",
            "}"
          ],
          "metadata": {},
          "cell_type": "code",
          "prompt_number": 30,
          "language": "python",
          "collapsed": false
        },
        {
          "outputs": [
            {
              "html": [
                "<pre style=\"color:slategray;max-height:100px;overflow:hidden\" \n",
                "onclick=\"\n",
                "if (this.style.maxHeight === 'none') \n",
                "    this.style.maxHeight = '100px';\n",
                "else\n",
                "    this.style.maxHeight = 'none'; \n",
                "\">val mean : running_sum -&gt; float = &lt;fun&gt;\n",
                "</pre>"
              ],
              "output_type": "pyout",
              "prompt_number": 34,
              "metadata": {}
            }
          ],
          "input": [
            "let mean rsum = rsum.sum /. float rsum.samples ;;"
          ],
          "metadata": {},
          "cell_type": "code",
          "prompt_number": 34,
          "language": "python",
          "collapsed": false
        },
        {
          "outputs": [
            {
              "html": [
                "<pre style=\"color:slategray;max-height:100px;overflow:hidden\" \n",
                "onclick=\"\n",
                "if (this.style.maxHeight === 'none') \n",
                "    this.style.maxHeight = '100px';\n",
                "else\n",
                "    this.style.maxHeight = 'none'; \n",
                "\">val create : unit -&gt; running_sum = &lt;fun&gt;\n",
                "</pre>"
              ],
              "output_type": "pyout",
              "prompt_number": 35,
              "metadata": {}
            },
            {
              "html": [
                "<pre style=\"color:slategray;max-height:100px;overflow:hidden\" \n",
                "onclick=\"\n",
                "if (this.style.maxHeight === 'none') \n",
                "    this.style.maxHeight = '100px';\n",
                "else\n",
                "    this.style.maxHeight = 'none'; \n",
                "\">val update_sum : running_sum -&gt; float -&gt; unit = &lt;fun&gt;\n",
                "</pre>"
              ],
              "output_type": "pyout",
              "prompt_number": 35,
              "metadata": {}
            }
          ],
          "input": [
            "let create () = { sum = 0.; sum_sq = 0.; samples = 0 } ;;\n",
            "let update_sum rsum x =\n",
            "    rsum.samples <- rsum.samples + 1;\n",
            "    rsum.sum     <- rsum.sum +. x ;\n",
            "    rsum.sum_sq  <- rsum.sum_sq +. x *. x\n",
            ";;"
          ],
          "metadata": {},
          "cell_type": "code",
          "prompt_number": 35,
          "language": "python",
          "collapsed": false
        },
        {
          "source": [
            "Notice a few things here:\n",
            "\n",
            "- We need to create a `create` and `update_sum` to update and create the running sum\n",
            "- We use `;` to separate the operations\n",
            "- We use `<-` to specify the assignation"
          ],
          "metadata": {},
          "cell_type": "markdown"
        },
        {
          "source": [
            "Arrays are another set of mutable structures, they are declared easily too:"
          ],
          "metadata": {},
          "cell_type": "markdown"
        },
        {
          "outputs": [
            {
              "html": [
                "<pre style=\"color:slategray;max-height:100px;overflow:hidden\" \n",
                "onclick=\"\n",
                "if (this.style.maxHeight === 'none') \n",
                "    this.style.maxHeight = '100px';\n",
                "else\n",
                "    this.style.maxHeight = 'none'; \n",
                "\">val numbers : int array = [|1; 2; 3; 4|]\n",
                "</pre>"
              ],
              "output_type": "pyout",
              "prompt_number": 40,
              "metadata": {}
            },
            {
              "html": [
                "<pre style=\"color:slategray;max-height:100px;overflow:hidden\" \n",
                "onclick=\"\n",
                "if (this.style.maxHeight === 'none') \n",
                "    this.style.maxHeight = '100px';\n",
                "else\n",
                "    this.style.maxHeight = 'none'; \n",
                "\">- : unit = ()\n",
                "</pre>"
              ],
              "output_type": "pyout",
              "prompt_number": 40,
              "metadata": {}
            },
            {
              "html": [
                "<pre style=\"color:slategray;max-height:100px;overflow:hidden\" \n",
                "onclick=\"\n",
                "if (this.style.maxHeight === 'none') \n",
                "    this.style.maxHeight = '100px';\n",
                "else\n",
                "    this.style.maxHeight = 'none'; \n",
                "\">- : int array = [|1; 2; 4; 4|]\n",
                "</pre>"
              ],
              "output_type": "pyout",
              "prompt_number": 40,
              "metadata": {}
            }
          ],
          "input": [
            "let numbers = [| 1; 2; 3; 4 |] ;;\n",
            "numbers.(2) <- 4 ;;\n",
            "numbers"
          ],
          "metadata": {},
          "cell_type": "code",
          "prompt_number": 40,
          "language": "python",
          "collapsed": false
        },
        { "source": [], "metadata": {}, "cell_type": "markdown" }
      ],
      "metadata": {}
    }
  ],
  "metadata": { "name": "", "language": "ocaml" },
  "nbformat": 3,
  "nbformat_minor": 0
}