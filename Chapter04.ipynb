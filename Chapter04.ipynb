{
  "worksheets": [
    {
      "cells": [
        {
          "source": [
            "Files and modules"
          ],
          "metadata": {},
          "cell_type": "heading",
          "level": 1
        },
        {
          "source": [
            "Most of this chapter will be in external files, because, after all, we are learning how to make modules and inlcude them in other files.\n",
            "\n",
            "Let's start with the simple problem: Read a set of lines from standard input and putting the frequence of the 10 most frequent lines."
          ],
          "metadata": {},
          "cell_type": "markdown"
        },
        {
          "outputs": [
            {
              "html": [
                "<pre style=\"color:slategray;max-height:100px;overflow:hidden\" \n",
                "onclick=\"\n",
                "if (this.style.maxHeight === 'none') \n",
                "    this.style.maxHeight = '100px';\n",
                "else\n",
                "    this.style.maxHeight = 'none'; \n",
                "\">val assoc : (string * int) list = [(&quot;one&quot;, 1); (&quot;two&quot;, 2); (&quot;three&quot;, 3)]\n",
                "</pre>"
              ],
              "output_type": "pyout",
              "prompt_number": 4,
              "metadata": {}
            },
            {
              "html": [
                "<pre style=\"color:slategray;max-height:100px;overflow:hidden\" \n",
                "onclick=\"\n",
                "if (this.style.maxHeight === 'none') \n",
                "    this.style.maxHeight = '100px';\n",
                "else\n",
                "    this.style.maxHeight = 'none'; \n",
                "\">- : int option = Some 2\n",
                "</pre>"
              ],
              "output_type": "pyout",
              "prompt_number": 4,
              "metadata": {}
            },
            {
              "html": [
                "<pre style=\"color:slategray;max-height:100px;overflow:hidden\" \n",
                "onclick=\"\n",
                "if (this.style.maxHeight === 'none') \n",
                "    this.style.maxHeight = '100px';\n",
                "else\n",
                "    this.style.maxHeight = 'none'; \n",
                "\">- : (string, int) Core.Std.List.Assoc.t =\n",
                "[(&quot;four&quot;, 4); (&quot;one&quot;, 1); (&quot;two&quot;, 2); (&quot;three&quot;, 3)]\n",
                "</pre>"
              ],
              "output_type": "pyout",
              "prompt_number": 4,
              "metadata": {}
            },
            {
              "html": [
                "<pre style=\"color:slategray;max-height:100px;overflow:hidden\" \n",
                "onclick=\"\n",
                "if (this.style.maxHeight === 'none') \n",
                "    this.style.maxHeight = '100px';\n",
                "else\n",
                "    this.style.maxHeight = 'none'; \n",
                "\">- : (string, int) Core.Std.List.Assoc.t =\n",
                "[(&quot;two&quot;, 6); (&quot;one&quot;, 1); (&quot;three&quot;, 3)]\n",
                "</pre>"
              ],
              "output_type": "pyout",
              "prompt_number": 4,
              "metadata": {}
            }
          ],
          "input": [
            "let assoc = [(\"one\",1);(\"two\",2);(\"three\",3)] ;;\n",
            "\n",
            "List.Assoc.find assoc \"two\" ;; (* Find an item in the list by 'key' *)\n",
            "List.Assoc.add assoc \"four\" 4 ;; (* Add a new key value pair *)\n",
            "List.Assoc.add assoc \"two\" 6 ;; (* We use this to replace too *)"
          ],
          "metadata": {},
          "cell_type": "code",
          "prompt_number": 4,
          "language": "python",
          "collapsed": false
        },
        {
          "source": [
            "The module `List.Assoc` is for _associative lists_ which are no more than a list of key/value pairs.\n",
            "\n",
            "What we can do is to take a fold in the input and apply a find to find the line in an array of items and add to add a new item or update the count."
          ],
          "metadata": {},
          "cell_type": "markdown"
        },
        {
          "outputs": [
            {
              "html": [
                "<pre style=\"color:slategray;max-height:100px;overflow:hidden\" \n",
                "onclick=\"\n",
                "if (this.style.maxHeight === 'none') \n",
                "    this.style.maxHeight = '100px';\n",
                "else\n",
                "    this.style.maxHeight = 'none'; \n",
                "\">val build_counts : unit -&gt; (string, int) Core.Std.List.Assoc.t = &lt;fun&gt;\n",
                "</pre>"
              ],
              "output_type": "pyout",
              "prompt_number": 9,
              "metadata": {}
            }
          ],
          "input": [
            "let build_counts () = (* This means it doesn't get any argument *)\n",
            "    In_channel.fold_lines stdin ~init:[] \n",
            "        ~f:(fun counts line ->\n",
            "            let count = match List.Assoc.find counts line with\n",
            "                | None -> 0\n",
            "                | Some x -> x\n",
            "            in\n",
            "            List.Assoc.add counts line (count + 1))\n",
            ";;"
          ],
          "metadata": {},
          "cell_type": "code",
          "prompt_number": 9,
          "language": "python",
          "collapsed": false
        },
        {
          "source": [
            "Then we can use that function to build the main function, reading from stdin, ordering in descending with `List.sort` (signature is `'a list -> cmp:('a -> 'a -> int) -> 'a list`"
          ],
          "metadata": {},
          "cell_type": "markdown"
        },
        {
          "outputs": [],
          "input": [
            "build_counts ()\n",
            " |> List.sort ~cmp:(fun (_,x) (_,y) -> Int.descending x y) ;; (*We are going to do nothing with the keys*)"
          ],
          "metadata": {},
          "cell_type": "code",
          "prompt_number": "*",
          "language": "python",
          "collapsed": false
        },
        {
          "source": [
            "After that, we can take the top 10 using the function `List.take` with the signature: `'a list -> int -> 'a list`"
          ],
          "metadata": {},
          "cell_type": "markdown"
        },
        {
          "outputs": [],
          "input": [
            "build_counts ()\n",
            "    |> List.sort ~cmp:(fun (_,x) (_,y) -> Int.descending x y)\n",
            "    |> (fun x -> List.take x 10)\n",
            "    |> List.iter ~f:(fun (line, count) -> printf \"%3d: %s\\n\" count line)"
          ],
          "metadata": {},
          "cell_type": "code",
          "prompt_number": "*",
          "language": "python",
          "collapsed": false
        },
        {
          "source": [
            "Do you want to see the finish work? take a look at `freq.ml`. It is basically what we need.\n",
            "\n",
            "To compile the program you can use `ocaml freq.ml freq.bin` and guess what, it will fail!\n",
            "\n",
            "To fix it, you need to tell the compiler where is the Core package: `ocamlfind ocamlc -linkpkg -thread -package core freq.ml -o freq.native`\n",
            "\n",
            "Another option is to use `ocamlbuild freq.native` comming with Core. Be aware it does not need to have the `cmi` and `cmo` files generated by ocamlc."
          ],
          "metadata": {},
          "cell_type": "markdown"
        },
        {
          "source": [
            "Native and bytecode"
          ],
          "metadata": {},
          "cell_type": "heading",
          "level": 2
        },
        {
          "source": [
            "In the previous, `ocamlc` compiles into bytecode, while "
          ],
          "metadata": {},
          "cell_type": "markdown"
        }
      ],
      "metadata": {}
    }
  ],
  "metadata": { "name": "", "language": "ocaml" },
  "nbformat": 3,
  "nbformat_minor": 0
}