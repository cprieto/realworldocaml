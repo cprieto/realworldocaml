{
  "worksheets": [
    {
      "cells": [
        {
          "source": [
            "Files and modules"
          ],
          "metadata": {},
          "cell_type": "heading",
          "level": 1
        },
        {
          "source": [
            "Most of this chapter will be in external files, because, after all, we are learning how to make modules and inlcude them in other files.\n",
            "\n",
            "Let's start with the simple problem: Read a set of lines from standard input and putting the frequence of the 10 most frequent lines."
          ],
          "metadata": {},
          "cell_type": "markdown"
        },
        {
          "outputs": [
            {
              "html": [
                "<pre style=\"color:slategray;max-height:100px;overflow:hidden\" \n",
                "onclick=\"\n",
                "if (this.style.maxHeight === 'none') \n",
                "    this.style.maxHeight = '100px';\n",
                "else\n",
                "    this.style.maxHeight = 'none'; \n",
                "\">val assoc : (string * int) list = [(&quot;one&quot;, 1); (&quot;two&quot;, 2); (&quot;three&quot;, 3)]\n",
                "</pre>"
              ],
              "output_type": "pyout",
              "prompt_number": 4,
              "metadata": {}
            },
            {
              "html": [
                "<pre style=\"color:slategray;max-height:100px;overflow:hidden\" \n",
                "onclick=\"\n",
                "if (this.style.maxHeight === 'none') \n",
                "    this.style.maxHeight = '100px';\n",
                "else\n",
                "    this.style.maxHeight = 'none'; \n",
                "\">- : int option = Some 2\n",
                "</pre>"
              ],
              "output_type": "pyout",
              "prompt_number": 4,
              "metadata": {}
            },
            {
              "html": [
                "<pre style=\"color:slategray;max-height:100px;overflow:hidden\" \n",
                "onclick=\"\n",
                "if (this.style.maxHeight === 'none') \n",
                "    this.style.maxHeight = '100px';\n",
                "else\n",
                "    this.style.maxHeight = 'none'; \n",
                "\">- : (string, int) Core.Std.List.Assoc.t =\n",
                "[(&quot;four&quot;, 4); (&quot;one&quot;, 1); (&quot;two&quot;, 2); (&quot;three&quot;, 3)]\n",
                "</pre>"
              ],
              "output_type": "pyout",
              "prompt_number": 4,
              "metadata": {}
            },
            {
              "html": [
                "<pre style=\"color:slategray;max-height:100px;overflow:hidden\" \n",
                "onclick=\"\n",
                "if (this.style.maxHeight === 'none') \n",
                "    this.style.maxHeight = '100px';\n",
                "else\n",
                "    this.style.maxHeight = 'none'; \n",
                "\">- : (string, int) Core.Std.List.Assoc.t =\n",
                "[(&quot;two&quot;, 6); (&quot;one&quot;, 1); (&quot;three&quot;, 3)]\n",
                "</pre>"
              ],
              "output_type": "pyout",
              "prompt_number": 4,
              "metadata": {}
            }
          ],
          "input": [
            "let assoc = [(\"one\",1);(\"two\",2);(\"three\",3)] ;;\n",
            "\n",
            "List.Assoc.find assoc \"two\" ;; (* Find an item in the list by 'key' *)\n",
            "List.Assoc.add assoc \"four\" 4 ;; (* Add a new key value pair *)\n",
            "List.Assoc.add assoc \"two\" 6 ;; (* We use this to replace too *)"
          ],
          "metadata": {},
          "cell_type": "code",
          "prompt_number": 4,
          "language": "python",
          "collapsed": false
        },
        {
          "source": [
            "The module `List.Assoc` is for _associative lists_ which are no more than a list of key/value pairs.\n",
            "\n",
            "What we can do is to take a fold in the input and apply a find to find the line in an array of items and add to add a new item or update the count."
          ],
          "metadata": {},
          "cell_type": "markdown"
        },
        {
          "outputs": [
            {
              "html": [
                "<pre style=\"color:slategray;max-height:100px;overflow:hidden\" \n",
                "onclick=\"\n",
                "if (this.style.maxHeight === 'none') \n",
                "    this.style.maxHeight = '100px';\n",
                "else\n",
                "    this.style.maxHeight = 'none'; \n",
                "\">val build_counts : unit -&gt; (string, int) Core.Std.List.Assoc.t = &lt;fun&gt;\n",
                "</pre>"
              ],
              "output_type": "pyout",
              "prompt_number": 9,
              "metadata": {}
            }
          ],
          "input": [
            "let build_counts () = (* This means it doesn't get any argument *)\n",
            "    In_channel.fold_lines stdin ~init:[] \n",
            "        ~f:(fun counts line ->\n",
            "            let count = match List.Assoc.find counts line with\n",
            "                | None -> 0\n",
            "                | Some x -> x\n",
            "            in\n",
            "            List.Assoc.add counts line (count + 1))\n",
            ";;"
          ],
          "metadata": {},
          "cell_type": "code",
          "prompt_number": 9,
          "language": "python",
          "collapsed": false
        },
        {
          "source": [
            "Then we can use that function to build the main function, reading from stdin, ordering in descending with `List.sort` (signature is `'a list -> cmp:('a -> 'a -> int) -> 'a list`"
          ],
          "metadata": {},
          "cell_type": "markdown"
        },
        {
          "outputs": [],
          "input": [
            "build_counts ()\n",
            " |> List.sort ~cmp:(fun (_,x) (_,y) -> Int.descending x y) ;; (*We are going to do nothing with the keys*)"
          ],
          "metadata": {},
          "cell_type": "code",
          "prompt_number": "*",
          "language": "python",
          "collapsed": false
        },
        {
          "source": [
            "After that, we can take the top 10 using the function `List.take` with the signature: `'a list -> int -> 'a list`"
          ],
          "metadata": {},
          "cell_type": "markdown"
        },
        {
          "outputs": [],
          "input": [
            "build_counts ()\n",
            "    |> List.sort ~cmp:(fun (_,x) (_,y) -> Int.descending x y)\n",
            "    |> (fun x -> List.take x 10)\n",
            "    |> List.iter ~f:(fun (line, count) -> printf \"%3d: %s\\n\" count line)"
          ],
          "metadata": {},
          "cell_type": "code",
          "prompt_number": "*",
          "language": "python",
          "collapsed": false
        },
        {
          "source": [
            "Do you want to see the finish work? take a look at `freq.ml`. It is basically what we need.\n",
            "\n",
            "To compile the program you can use `ocaml freq.ml freq.bin` and guess what, it will fail!\n",
            "\n",
            "To fix it, you need to tell the compiler where is the Core package: `ocamlfind ocamlc -linkpkg -thread -package core freq.ml -o freq.native`\n",
            "\n",
            "Another option is to use `ocamlbuild freq.native` comming with Core. Be aware it does not need to have the `cmi` and `cmo` files generated by ocamlc."
          ],
          "metadata": {},
          "cell_type": "markdown"
        },
        {
          "source": [
            "Native and bytecode"
          ],
          "metadata": {},
          "cell_type": "heading",
          "level": 2
        },
        {
          "source": [
            "In the previous, `ocamlc` compiles into bytecode, while `ocamlopt` compiles into native. If you already _opamed_ `core` you can take advantage of `corebuild` which knows what to do depending on the extension. `*.byte` for bytecode and `*.native` for native code.\n",
            "\n",
            "If you create modules, the file name is the module name with Uppercase, for example, if you move the counter function to the file `counter.ml`:"
          ],
          "metadata": {},
          "cell_type": "markdown"
        },
        {
          "outputs": [
            {
              "html": [
                "<pre style=\"color:slategray;max-height:100px;overflow:hidden\" \n",
                "onclick=\"\n",
                "if (this.style.maxHeight === 'none') \n",
                "    this.style.maxHeight = '100px';\n",
                "else\n",
                "    this.style.maxHeight = 'none'; \n",
                "\">val touch :\n",
                "  ('a, int) Core.Std.List.Assoc.t -&gt; 'a -&gt; ('a, int) Core.Std.List.Assoc.t =\n",
                "  &lt;fun&gt;\n",
                "</pre>"
              ],
              "output_type": "pyout",
              "prompt_number": 1,
              "metadata": {}
            }
          ],
          "input": [
            "open Core.Std\n",
            "\n",
            "let touch t s =\n",
            "    let count = match List.Assoc.find t s with\n",
            "    | None -> 0\n",
            "    | Some x -> x\n",
            "    in\n",
            "    List.Assoc.add t s (count + 1)"
          ],
          "metadata": {},
          "cell_type": "code",
          "prompt_number": 1,
          "language": "python",
          "collapsed": false
        },
        {
          "source": [
            "And this should be your `freq.ml` file (it will fail because iocaml doesn't know about `counter.ml`:"
          ],
          "metadata": {},
          "cell_type": "markdown"
        },
        {
          "outputs": [
            {
              "html": [
                "<pre style=\"color:red;max-height:100px;overflow:hidden\" \n",
                "onclick=\"\n",
                "if (this.style.maxHeight === 'none') \n",
                "    this.style.maxHeight = '100px';\n",
                "else\n",
                "    this.style.maxHeight = 'none'; \n",
                "\">File &quot;[2]&quot;, line 4, characters 44-57:\n",
                "Error: Unbound module Counter\n",
                "Characters 81-94:\n",
                "      In_channel.fold_lines stdin ~init:[] ~f:Counter.touch\n",
                "                                              ^^^^^^^^^^^^^\n",
                "</pre>"
              ],
              "output_type": "pyout",
              "prompt_number": 2,
              "metadata": {}
            }
          ],
          "input": [
            "open Core.Std\n",
            "\n",
            "let build_counts () =\n",
            "    In_channel.fold_lines stdin ~init:[] ~f:Counter.touch\n",
            "    \n",
            "let () =\n",
            "    build_counts ()\n",
            "    |> List.sort ~cmp:(fun (_,x) (_,y) -> Int.descending x y)\n",
            "    |> (fun x -> List.take x 10)\n",
            "    |> List.iter ~f:(fun (line, count) -> printf \"%3d: %s\\n\" count line)"
          ],
          "metadata": {},
          "cell_type": "code",
          "prompt_number": 2,
          "language": "python",
          "collapsed": false
        },
        {
          "source": [
            "To compile using `ocamlc` use the whole set of files: `ocamlfind ocamlc -linkpkg -thread -package core freq.ml core.ml -o freq.byte`\n",
            "\n",
            "If you want to use `corebuild` it is easiser, just as usual `corebuild freq.byte` because it is smart enough to know where is `core.ml`."
          ],
          "metadata": {},
          "cell_type": "markdown"
        },
        {
          "source": [
            "Interfaces for modules"
          ],
          "metadata": {},
          "cell_type": "heading",
          "level": 2
        },
        {
          "source": [
            "We can create a module interface (or signature) file with the expected function signatures, it is the name of the module with the `mli` extension. For our `counter` module the signature could be:"
          ],
          "metadata": {},
          "cell_type": "markdown"
        },
        {
          "source": [
            "(** We can put a comment about the function here *)\n",
            "val touch : (string * int) list -> string -> (string * int) list"
          ],
          "metadata": {},
          "cell_type": "raw"
        },
        {
          "source": [
            "This is basically what `utop` will return if you do the function from the `utop` command. Signatures are kind of like `header` files in C/C++."
          ],
          "metadata": {},
          "cell_type": "markdown"
        },
        {
          "source": [
            "Converting to common types"
          ],
          "metadata": {},
          "cell_type": "heading",
          "level": 2
        },
        {
          "source": [
            "We still have the problem with depending on a list of tuples or our direct dependency on the knowledge of an associative list. We can abstract that into a specific type of our convinience."
          ],
          "metadata": {},
          "cell_type": "markdown"
        },
        {
          "source": [
            "open Core.Std\n",
            "\n",
            "(** A collection of string frequency counts *)\n",
            "type t\n",
            "\n",
            "(** The empty set of frequency counts *)\n",
            "val empty : t\n",
            "\n",
            "(** Bump the frequency count for the given string *)\n",
            "val touch: t -> string -> t\n",
            "\n",
            "(** Converts the set of frequency counts to an association list *)\n",
            "val to_list : t -> (string * int) list"
          ],
          "metadata": {},
          "cell_type": "raw"
        },
        {
          "source": [
            "And now just modify `counter.mli` to reflect our changes:"
          ],
          "metadata": {},
          "cell_type": "markdown"
        },
        {
          "outputs": [
            {
              "html": [
                "<pre style=\"color:slategray;max-height:100px;overflow:hidden\" \n",
                "onclick=\"\n",
                "if (this.style.maxHeight === 'none') \n",
                "    this.style.maxHeight = '100px';\n",
                "else\n",
                "    this.style.maxHeight = 'none'; \n",
                "\">type t = (string * int) list\n",
                "</pre>"
              ],
              "output_type": "pyout",
              "prompt_number": 4,
              "metadata": {}
            },
            {
              "html": [
                "<pre style=\"color:slategray;max-height:100px;overflow:hidden\" \n",
                "onclick=\"\n",
                "if (this.style.maxHeight === 'none') \n",
                "    this.style.maxHeight = '100px';\n",
                "else\n",
                "    this.style.maxHeight = 'none'; \n",
                "\">val empty : 'a list = []\n",
                "</pre>"
              ],
              "output_type": "pyout",
              "prompt_number": 4,
              "metadata": {}
            },
            {
              "html": [
                "<pre style=\"color:slategray;max-height:100px;overflow:hidden\" \n",
                "onclick=\"\n",
                "if (this.style.maxHeight === 'none') \n",
                "    this.style.maxHeight = '100px';\n",
                "else\n",
                "    this.style.maxHeight = 'none'; \n",
                "\">val to_list : 'a -&gt; 'a = &lt;fun&gt;\n",
                "</pre>"
              ],
              "output_type": "pyout",
              "prompt_number": 4,
              "metadata": {}
            },
            {
              "html": [
                "<pre style=\"color:slategray;max-height:100px;overflow:hidden\" \n",
                "onclick=\"\n",
                "if (this.style.maxHeight === 'none') \n",
                "    this.style.maxHeight = '100px';\n",
                "else\n",
                "    this.style.maxHeight = 'none'; \n",
                "\">val touch :\n",
                "  ('a, int) Core.Std.List.Assoc.t -&gt; 'a -&gt; ('a, int) Core.Std.List.Assoc.t =\n",
                "  &lt;fun&gt;\n",
                "</pre>"
              ],
              "output_type": "pyout",
              "prompt_number": 4,
              "metadata": {}
            }
          ],
          "input": [
            "open Core.Std\n",
            "\n",
            "type t = (string * int) list\n",
            "\n",
            "let empty = []\n",
            "\n",
            "let to_list x = x\n",
            "\n",
            "let touch t s =\n",
            "    let count = match List.Assoc.find t s with\n",
            "    | None -> 0\n",
            "    | Some x -> x\n",
            "    in\n",
            "    List.Assoc.add t s (count + 1)"
          ],
          "metadata": {},
          "cell_type": "code",
          "prompt_number": 4,
          "language": "python",
          "collapsed": false
        },
        {
          "source": [
            "Of course you will have to modify our `freq.ml` but I leave that to your discretion!"
          ],
          "metadata": {},
          "cell_type": "markdown"
        },
        {
          "outputs": [],
          "input": [],
          "metadata": {},
          "cell_type": "code",
          "language": "python",
          "collapsed": false
        }
      ],
      "metadata": {}
    }
  ],
  "metadata": { "name": "", "language": "ocaml" },
  "nbformat": 3,
  "nbformat_minor": 0
}