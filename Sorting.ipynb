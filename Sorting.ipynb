{
  "worksheets": [
    {
      "cells": [
        {
          "source": [
            "## Basic sort with insert\n",
            "\n",
            "The easiest is using an insert mechanism:"
          ],
          "metadata": {},
          "cell_type": "markdown"
        },
        {
          "outputs": [
            {
              "html": [
                "<pre style=\"color:slategray;max-height:100px;overflow:hidden\" \n",
                "onclick=\"\n",
                "if (this.style.maxHeight === 'none') \n",
                "    this.style.maxHeight = '100px';\n",
                "else\n",
                "    this.style.maxHeight = 'none'; \n",
                "\">val insert_sort : 'a list -&gt; 'a list = &lt;fun&gt;\n",
                "</pre>"
              ],
              "output_type": "pyout",
              "prompt_number": 19,
              "metadata": {}
            },
            {
              "html": [
                "<pre style=\"color:slategray;max-height:100px;overflow:hidden\" \n",
                "onclick=\"\n",
                "if (this.style.maxHeight === 'none') \n",
                "    this.style.maxHeight = '100px';\n",
                "else\n",
                "    this.style.maxHeight = 'none'; \n",
                "\">- : int list = [0; 1; 2; 3; 4; 5; 9]\n",
                "</pre>"
              ],
              "output_type": "pyout",
              "prompt_number": 19,
              "metadata": {}
            },
            {
              "html": [
                "<pre style=\"color:slategray;max-height:100px;overflow:hidden\" \n",
                "onclick=\"\n",
                "if (this.style.maxHeight === 'none') \n",
                "    this.style.maxHeight = '100px';\n",
                "else\n",
                "    this.style.maxHeight = 'none'; \n",
                "\">val rev_insert_sort : 'a list -&gt; 'a list = &lt;fun&gt;\n",
                "</pre>"
              ],
              "output_type": "pyout",
              "prompt_number": 19,
              "metadata": {}
            },
            {
              "html": [
                "<pre style=\"color:slategray;max-height:100px;overflow:hidden\" \n",
                "onclick=\"\n",
                "if (this.style.maxHeight === 'none') \n",
                "    this.style.maxHeight = '100px';\n",
                "else\n",
                "    this.style.maxHeight = 'none'; \n",
                "\">- : int list = [4; 0; 1; 2; 3; 5; 9]\n",
                "</pre>"
              ],
              "output_type": "pyout",
              "prompt_number": 19,
              "metadata": {}
            }
          ],
          "input": [
            "let rec insert_sort l =\n",
            "  let rec insert x l' =\n",
            "    match l' with\n",
            "    | [] -> [x]\n",
            "    | hd :: tl -> \n",
            "      if x <= hd then x :: hd :: tl \n",
            "      else hd :: insert x tl\n",
            "  in\n",
            "  match l with\n",
            "  | [] -> []\n",
            "  | hd :: tl -> insert hd (sort tl)\n",
            ";;\n",
            "\n",
            "insert_sort [4;1;0;9;3;2;5];;\n",
            "\n",
            "let rec rev_insert_sort l =\n",
            "  let rec insert x l' =\n",
            "    match l' with\n",
            "    | [] -> [x]\n",
            "    | hd :: tl -> \n",
            "      if x >= hd then x :: hd :: tl \n",
            "      else hd :: insert x tl\n",
            "  in\n",
            "  match l with\n",
            "  | [] -> []\n",
            "  | hd :: tl -> insert hd (sort tl)\n",
            ";;\n",
            "\n",
            "rev_insert_sort [4;1;0;9;3;2;5];;"
          ],
          "metadata": {},
          "cell_type": "code",
          "prompt_number": 19,
          "language": "python",
          "collapsed": false
        },
        {
          "source": [
            "## Merge sort"
          ],
          "metadata": {},
          "cell_type": "markdown"
        },
        {
          "outputs": [
            {
              "html": [
                "<pre style=\"color:slategray;max-height:100px;overflow:hidden\" \n",
                "onclick=\"\n",
                "if (this.style.maxHeight === 'none') \n",
                "    this.style.maxHeight = '100px';\n",
                "else\n",
                "    this.style.maxHeight = 'none'; \n",
                "\">val lenght : 'a list -&gt; int = &lt;fun&gt;\n",
                "</pre>"
              ],
              "output_type": "pyout",
              "prompt_number": 8,
              "metadata": {}
            },
            {
              "html": [
                "<pre style=\"color:slategray;max-height:100px;overflow:hidden\" \n",
                "onclick=\"\n",
                "if (this.style.maxHeight === 'none') \n",
                "    this.style.maxHeight = '100px';\n",
                "else\n",
                "    this.style.maxHeight = 'none'; \n",
                "\">- : int = 4\n",
                "</pre>"
              ],
              "output_type": "pyout",
              "prompt_number": 8,
              "metadata": {}
            }
          ],
          "input": [
            "let lenght l =\n",
            "  let rec inner_length counter items =\n",
            "    match items with\n",
            "    | [] -> counter\n",
            "    | hd :: tl -> inner_length (counter + 1) tl\n",
            "  in\n",
            "  inner_length 0 l\n",
            ";;\n",
            "\n",
            "lenght [1;2;3;4]"
          ],
          "metadata": {},
          "cell_type": "code",
          "prompt_number": 8,
          "language": "python",
          "collapsed": false
        },
        {
          "outputs": [
            {
              "html": [
                "<pre style=\"color:slategray;max-height:100px;overflow:hidden\" \n",
                "onclick=\"\n",
                "if (this.style.maxHeight === 'none') \n",
                "    this.style.maxHeight = '100px';\n",
                "else\n",
                "    this.style.maxHeight = 'none'; \n",
                "\">val msort : 'a list -&gt; 'a list = &lt;fun&gt;\n",
                "</pre>"
              ],
              "output_type": "pyout",
              "prompt_number": 15,
              "metadata": {}
            },
            {
              "html": [
                "<pre style=\"color:slategray;max-height:100px;overflow:hidden\" \n",
                "onclick=\"\n",
                "if (this.style.maxHeight === 'none') \n",
                "    this.style.maxHeight = '100px';\n",
                "else\n",
                "    this.style.maxHeight = 'none'; \n",
                "\">- : int list = [0; 1; 2; 3; 4; 5; 9]\n",
                "</pre>"
              ],
              "output_type": "pyout",
              "prompt_number": 15,
              "metadata": {}
            }
          ],
          "input": [
            "let rec msort items =\n",
            "  (* I am pretty sure this can be tail recursive *)\n",
            "  let rec take n x =\n",
            "    match x with\n",
            "    | [] -> []\n",
            "    | hd :: tl -> \n",
            "      if n = 0 then [] \n",
            "      else hd :: take (n - 1) tl\n",
            "  in\n",
            "  (* Now this is a tail recursive function! yay! *)\n",
            "  let length l =\n",
            "    let rec inner_length counter items =\n",
            "      match items with\n",
            "      | [] -> counter\n",
            "      | hd :: tl -> inner_length (counter + 1) tl\n",
            "    in\n",
            "    inner_length 0 l\n",
            "  in\n",
            "  let rec drop n items =\n",
            "    if n = 0 then items else \n",
            "    match items with\n",
            "    | [] -> []\n",
            "    | hd :: tl -> drop (n - 1) tl\n",
            "  in\n",
            "  let rec merge x y =\n",
            "    match x, y with\n",
            "    | [], i -> i\n",
            "    | i, [] -> i\n",
            "    | hx :: tx, hy :: ty ->\n",
            "      if hx < hy then hx :: merge tx (hy :: ty)\n",
            "      else hy :: merge (hx :: tx) ty\n",
            "  in\n",
            "  match items with\n",
            "  | [] | [_] as x -> x\n",
            "  | _ -> \n",
            "    let items_length = (length items / 2) in\n",
            "    let left, right = take items_length items, drop items_length items in\n",
            "    merge (msort left) (msort right)\n",
            ";;\n",
            "\n",
            "msort [4;1;0;9;3;2;5];;"
          ],
          "metadata": {},
          "cell_type": "code",
          "prompt_number": 15,
          "language": "python",
          "collapsed": false
        },
        {
          "outputs": [
            {
              "html": [
                "<pre style=\"color:slategray;max-height:100px;overflow:hidden\" \n",
                "onclick=\"\n",
                "if (this.style.maxHeight === 'none') \n",
                "    this.style.maxHeight = '100px';\n",
                "else\n",
                "    this.style.maxHeight = 'none'; \n",
                "\">val is_sorted : 'a list -&gt; bool = &lt;fun&gt;\n",
                "</pre>"
              ],
              "output_type": "pyout",
              "prompt_number": 21,
              "metadata": {}
            },
            {
              "html": [
                "<pre style=\"color:slategray;max-height:100px;overflow:hidden\" \n",
                "onclick=\"\n",
                "if (this.style.maxHeight === 'none') \n",
                "    this.style.maxHeight = '100px';\n",
                "else\n",
                "    this.style.maxHeight = 'none'; \n",
                "\">- : bool = true\n",
                "</pre>"
              ],
              "output_type": "pyout",
              "prompt_number": 21,
              "metadata": {}
            },
            {
              "html": [
                "<pre style=\"color:slategray;max-height:100px;overflow:hidden\" \n",
                "onclick=\"\n",
                "if (this.style.maxHeight === 'none') \n",
                "    this.style.maxHeight = '100px';\n",
                "else\n",
                "    this.style.maxHeight = 'none'; \n",
                "\">- : bool = false\n",
                "</pre>"
              ],
              "output_type": "pyout",
              "prompt_number": 21,
              "metadata": {}
            }
          ],
          "input": [
            "let rec is_sorted l =\n",
            "  match l with\n",
            "  | [] | [_] -> true (* empty list is sorted *)\n",
            "  | hd :: hd' :: tl -> hd <= hd' && (is_sorted tl)\n",
            ";;\n",
            "\n",
            "is_sorted [0;1;2;3;4];;\n",
            "is_sorted [0;1;2;3;4;0];;"
          ],
          "metadata": {},
          "cell_type": "code",
          "prompt_number": 21,
          "language": "python",
          "collapsed": false
        },
        {
          "outputs": [],
          "input": [],
          "metadata": {},
          "cell_type": "code",
          "language": "python",
          "collapsed": false
        }
      ],
      "metadata": {}
    }
  ],
  "metadata": { "name": "", "language": "ocaml" },
  "nbformat": 3,
  "nbformat_minor": 0
}